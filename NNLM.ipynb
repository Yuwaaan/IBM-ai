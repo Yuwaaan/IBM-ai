{
 "cells": [
  {
   "cell_type": "code",
   "execution_count": 1,
   "id": "f30533fb",
   "metadata": {},
   "outputs": [
    {
     "data": {
      "text/plain": [
       "'1.10.0+cu113'"
      ]
     },
     "execution_count": 1,
     "metadata": {},
     "output_type": "execute_result"
    }
   ],
   "source": [
    "import torch\n",
    "import torch.nn as nn\n",
    "import torch.optim as optimizer\n",
    "import torch.utils.data as Data\n",
    "\n",
    "dtype = torch.FloatTensor\n",
    "torch.__version__"
   ]
  },
  {
   "cell_type": "code",
   "execution_count": 2,
   "id": "f6ad6328",
   "metadata": {},
   "outputs": [
    {
     "name": "stdout",
     "output_type": "stream",
     "text": [
      "True\n",
      "True\n",
      "0\n",
      "cuda\n"
     ]
    }
   ],
   "source": [
    "import os\n",
    "os.environ[\"CUDA_VISIBLE_DEVICES\"]=\"0\"\n",
    "\n",
    "use_gpu = torch.cuda.is_available()\n",
    "print(use_gpu)\n",
    "if_gpu = torch.cuda.is_available()  # whether available\n",
    "print(if_gpu)\n",
    "gpu_number = torch.cuda.current_device()\n",
    "print(gpu_number)\n",
    "device = torch.device(\"cuda\" if torch.cuda.is_available() else \"cpu\")\n",
    "print(device)"
   ]
  },
  {
   "cell_type": "code",
   "execution_count": 6,
   "id": "e3fe9b46",
   "metadata": {},
   "outputs": [],
   "source": [
    "sentences = ['i like cat', 'i love coffee', 'i hate milk']\n",
    "sentences_list = \" \".join(sentences).split() # ['i', 'like', 'cat', 'i', 'love'. 'coffee',...]\n",
    "vocab = list(set(sentences_list))\n",
    "word2idx = {w:i for i, w in enumerate(vocab)}\n",
    "idx2word = {i:w for i, w in enumerate(vocab)}\n",
    "\n",
    "V = len(vocab)"
   ]
  },
  {
   "cell_type": "code",
   "execution_count": 7,
   "id": "c0bb92c9",
   "metadata": {},
   "outputs": [],
   "source": [
    "def make_data(sentences):\n",
    "    input_data = []\n",
    "    target_data = []\n",
    "    for sen in sentences:\n",
    "        sen = sen.split() # ['i', 'like', 'cat']\n",
    "        input_tmp = [word2idx[w] for w in sen[:-1]]\n",
    "        target_tmp = word2idx[sen[-1]]\n",
    "        \n",
    "        input_data.append(input_tmp)\n",
    "        target_data.append(target_tmp)\n",
    "    return input_data, target_data"
   ]
  },
  {
   "cell_type": "code",
   "execution_count": 12,
   "id": "2dea3607",
   "metadata": {},
   "outputs": [],
   "source": [
    "input_data, target_data = make_data(sentences)  # [[2, 1], [2, 3], [2, 5]]\n",
    "input_data, target_data = torch.LongTensor(input_data), torch.LongTensor(target_data)  # 变成tensor\n",
    "dataset = Data.TensorDataset(input_data, target_data)\n",
    "loader = Data.DataLoader(dataset, 2, True)"
   ]
  },
  {
   "cell_type": "code",
   "execution_count": 13,
   "id": "77ebb0c2",
   "metadata": {},
   "outputs": [],
   "source": [
    "# parameters\n",
    "m = 2\n",
    "n_step = 2\n",
    "n_hidden = 10"
   ]
  },
  {
   "cell_type": "code",
   "execution_count": 15,
   "id": "dd060f3d",
   "metadata": {},
   "outputs": [],
   "source": [
    "class NNLM(nn.Module):\n",
    "    def __init__(self):\n",
    "        super(NNLM, self).__init__()\n",
    "        self.C = nn.Embedding(V, m)\n",
    "        self.H = nn.Parameter(torch.randn(n_step * m, n_hidden).type(dtype))\n",
    "        self.d = nn.Parameter(torch.randn(n_hidden).type(dtype))\n",
    "        self.b = nn.Parameter(torch.randn(V).type(dtype))\n",
    "        self.W = nn.Parameter(torch.randn(n_step * m, V).type(dtype))\n",
    "        self.U = nn.Parameter(torch.randn(n_hidden, V).type(dtype))\n",
    "    def forward(self, X):\n",
    "        '''\n",
    "        X : [batch_size, n_step]\n",
    "        '''\n",
    "        X = self.C(X) # [batch_size, n_step, m]\n",
    "        X = X.view(-1, n_step * m) # [batch_szie, n_step * m]\n",
    "        hidden_out = torch.tanh(self.d + torch.mm(X, self.H)) # [batch_size, n_hidden]\n",
    "        output = self.b + torch.mm(X, self.W) + torch.mm(hidden_out, self.U)\n",
    "        return output\n",
    "model = NNLM()\n",
    "optim = optimizer.Adam(model.parameters(), lr=1e-3)\n",
    "criterion = nn.CrossEntropyLoss()"
   ]
  },
  {
   "cell_type": "code",
   "execution_count": 16,
   "id": "5d9e7f88",
   "metadata": {},
   "outputs": [
    {
     "name": "stdout",
     "output_type": "stream",
     "text": [
      "1000 0.02229258418083191\n",
      "1000 0.006536887027323246\n",
      "2000 0.0039536296389997005\n",
      "2000 0.001413061749190092\n",
      "3000 0.0007060831412672997\n",
      "3000 0.0011711412807926536\n",
      "4000 0.00034677889198064804\n",
      "4000 0.00013624693383462727\n",
      "5000 8.546863682568073e-05\n",
      "5000 0.00011288482346571982\n"
     ]
    }
   ],
   "source": [
    "for epoch in range(5000):\n",
    "    for batch_x, batch_y in loader:\n",
    "    pred = model(batch_x)\n",
    "    loss = criterion(pred, batch_y)\n",
    "\n",
    "    if (epoch + 1) % 1000 == 0:\n",
    "        print(epoch + 1, loss.item())\n",
    "    optim.zero_grad()\n",
    "    loss.backward()\n",
    "    optim.step()"
   ]
  },
  {
   "cell_type": "code",
   "execution_count": 17,
   "id": "5387a117",
   "metadata": {},
   "outputs": [
    {
     "name": "stdout",
     "output_type": "stream",
     "text": [
      "['cat', 'coffee', 'milk']\n"
     ]
    }
   ],
   "source": [
    "# Pred\n",
    "pred = model(input_data).max(1, keepdim=True)[1]\n",
    "print([idx2word[idx.item()] for idx in pred.squeeze()])"
   ]
  },
  {
   "cell_type": "code",
   "execution_count": null,
   "id": "3fb8a5d5",
   "metadata": {},
   "outputs": [],
   "source": []
  }
 ],
 "metadata": {
  "kernelspec": {
   "display_name": "Python 3 (ipykernel)",
   "language": "python",
   "name": "python3"
  },
  "language_info": {
   "codemirror_mode": {
    "name": "ipython",
    "version": 3
   },
   "file_extension": ".py",
   "mimetype": "text/x-python",
   "name": "python",
   "nbconvert_exporter": "python",
   "pygments_lexer": "ipython3",
   "version": "3.7.3"
  }
 },
 "nbformat": 4,
 "nbformat_minor": 5
}
