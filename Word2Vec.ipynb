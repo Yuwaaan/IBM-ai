{
 "cells": [
  {
   "cell_type": "code",
   "execution_count": 2,
   "id": "bc738420",
   "metadata": {},
   "outputs": [
    {
     "data": {
      "text/plain": [
       "device(type='cuda')"
      ]
     },
     "execution_count": 2,
     "metadata": {},
     "output_type": "execute_result"
    }
   ],
   "source": [
    "import torch\n",
    "import numpy as np\n",
    "import torch.nn as nn\n",
    "import torch.optim as optimizer\n",
    "import torch.utils.data as Data\n",
    "\n",
    "device = torch.device(\"cuda\" if torch.cuda.is_available() else \"cpu\")\n",
    "dtype = torch.FloatTensor\n",
    "device"
   ]
  },
  {
   "cell_type": "code",
   "execution_count": 3,
   "id": "4c8f37a3",
   "metadata": {},
   "outputs": [],
   "source": [
    "sentences = [\"jack like dog\", \"jack like cat\", \"jack like animal\",\n",
    "  \"dog cat animal\", \"banana apple cat dog like\", \"dog fish milk like\",\n",
    "  \"dog cat animal like\", \"jack like apple\", \"apple like\", \"jack like banana\",\n",
    "  \"apple banana jack movie book music like\", \"cat dog hate\", \"cat dog like\"]\n",
    "sentence_list = \" \".join(sentences).split() # ['jack', 'like', 'dog']\n",
    "vocab = list(set(sentence_list))\n",
    "word2idx = {w:i for i, w in enumerate(vocab)}\n",
    "vocab_size = len(vocab)"
   ]
  },
  {
   "cell_type": "code",
   "execution_count": 5,
   "id": "b8545178",
   "metadata": {},
   "outputs": [],
   "source": [
    "# model parameters\n",
    "C = 2 # window size\n",
    "batch_size = 8\n",
    "m = 2 # word embedding dim"
   ]
  },
  {
   "cell_type": "code",
   "execution_count": 7,
   "id": "da87da1e",
   "metadata": {},
   "outputs": [],
   "source": [
    "skip_grams = []\n",
    "for idx in range(C, len(sentence_list) - C):\n",
    "    center = word2idx[sentence_list[idx]]\n",
    "    context_idx = list(range(idx - C, idx)) + list(range(idx + 1, idx + C + 1))\n",
    "    context = [word2idx[sentence_list[i]] for i in context_idx]\n",
    "\n",
    "    for w in context:\n",
    "        skip_grams.append([center, w])"
   ]
  },
  {
   "cell_type": "code",
   "execution_count": 8,
   "id": "22e4bc08",
   "metadata": {},
   "outputs": [],
   "source": [
    "def make_data(skip_grams):\n",
    "    input_data = []\n",
    "    output_data = []\n",
    "    for a, b in skip_grams:\n",
    "        input_data.append(np.eye(vocab_size)[a])\n",
    "        output_data.append(b)\n",
    "    return input_data, output_data"
   ]
  },
  {
   "cell_type": "code",
   "execution_count": 9,
   "id": "bb4b8638",
   "metadata": {},
   "outputs": [
    {
     "name": "stderr",
     "output_type": "stream",
     "text": [
      "c:\\users\\neko_maru~\\appdata\\local\\programs\\python\\python37\\lib\\site-packages\\ipykernel_launcher.py:2: UserWarning: Creating a tensor from a list of numpy.ndarrays is extremely slow. Please consider converting the list to a single numpy.ndarray with numpy.array() before converting to a tensor. (Triggered internally at  ..\\torch\\csrc\\utils\\tensor_new.cpp:201.)\n",
      "  \n"
     ]
    }
   ],
   "source": [
    "input_data, output_data = make_data(skip_grams)\n",
    "input_data, output_data = torch.Tensor(input_data), torch.LongTensor(output_data)\n",
    "dataset = Data.TensorDataset(input_data, output_data)\n",
    "loader = Data.DataLoader(dataset, batch_size, True)"
   ]
  },
  {
   "cell_type": "code",
   "execution_count": 11,
   "id": "1dbfedb0",
   "metadata": {},
   "outputs": [],
   "source": [
    "class Word2Vec(nn.Module):\n",
    "    def __init__(self):\n",
    "        super(Word2Vec, self).__init__()\n",
    "        self.W = nn.Parameter(torch.randn(vocab_size, m).type(dtype))\n",
    "        self.V = nn.Parameter(torch.randn(m, vocab_size).type(dtype))\n",
    "\n",
    "    def forward(self, X):\n",
    "        # X : [batch_size, vocab_size]\n",
    "        hidden = torch.mm(X, self.W) # [batch_size, m]\n",
    "        output = torch.mm(hidden, self.V) # [batch_size, vocab_size]\n",
    "        return output\n",
    "    \n",
    "model = Word2Vec().to(device)\n",
    "loss_fn = nn.CrossEntropyLoss().to(device)\n",
    "optim = optimizer.Adam(model.parameters(), lr=1e-3)"
   ]
  },
  {
   "cell_type": "code",
   "execution_count": 12,
   "id": "ae54909b",
   "metadata": {},
   "outputs": [
    {
     "name": "stdout",
     "output_type": "stream",
     "text": [
      "1000 0 2.1249451637268066\n",
      "1000 1 1.7360754013061523\n",
      "1000 2 2.4674065113067627\n",
      "1000 3 2.1577532291412354\n",
      "1000 4 1.9168895483016968\n",
      "1000 5 1.6507222652435303\n",
      "1000 6 1.9858450889587402\n",
      "1000 7 2.1846089363098145\n",
      "1000 8 2.1250741481781006\n",
      "1000 9 1.9256950616836548\n",
      "1000 10 1.4905447959899902\n",
      "1000 11 2.793865203857422\n",
      "1000 12 2.2181077003479004\n",
      "1000 13 1.9992921352386475\n",
      "1000 14 2.2039830684661865\n",
      "1000 15 2.253570556640625\n",
      "1000 16 2.6763195991516113\n",
      "1000 17 1.8999788761138916\n",
      "1000 18 2.3167524337768555\n",
      "1000 19 2.0826992988586426\n",
      "1000 20 1.9023269414901733\n",
      "2000 0 2.2089130878448486\n",
      "2000 1 2.2041687965393066\n",
      "2000 2 1.8452569246292114\n",
      "2000 3 2.112050771713257\n",
      "2000 4 1.853405475616455\n",
      "2000 5 2.127729892730713\n",
      "2000 6 1.9805200099945068\n",
      "2000 7 2.039613962173462\n",
      "2000 8 2.293088674545288\n",
      "2000 9 2.1359126567840576\n",
      "2000 10 2.7353594303131104\n",
      "2000 11 1.927628755569458\n",
      "2000 12 1.8733375072479248\n",
      "2000 13 2.081012725830078\n",
      "2000 14 2.0865447521209717\n",
      "2000 15 1.613937258720398\n",
      "2000 16 2.1657376289367676\n",
      "2000 17 1.6265285015106201\n",
      "2000 18 2.326819658279419\n",
      "2000 19 2.2021632194519043\n",
      "2000 20 2.2964465618133545\n"
     ]
    }
   ],
   "source": [
    "for epoch in range(2000):\n",
    "    for i, (batch_x, batch_y) in enumerate(loader):\n",
    "        batch_x = batch_x.to(device)\n",
    "        batch_y = batch_y.to(device)\n",
    "        pred = model(batch_x)\n",
    "        loss = loss_fn(pred, batch_y)\n",
    "\n",
    "        if (epoch + 1) % 1000 == 0:\n",
    "            print(epoch + 1, i, loss.item())\n",
    "    \n",
    "        optim.zero_grad()\n",
    "        loss.backward()\n",
    "        optim.step()"
   ]
  },
  {
   "cell_type": "code",
   "execution_count": 15,
   "id": "adf9a81b",
   "metadata": {},
   "outputs": [
    {
     "data": {
      "image/png": "[encoded data removed]",
      "text/plain": [
       "<Figure size 432x288 with 1 Axes>"
      ]
     },
     "metadata": {
      "needs_background": "light"
     },
     "output_type": "display_data"
    }
   ],
   "source": [
    "import matplotlib.pyplot as plt\n",
    "for i, label in enumerate(vocab):\n",
    "    W, WT = model.parameters()\n",
    "    x,y = float(W[i][0]), float(W[i][1])\n",
    "    plt.scatter(x, y)\n",
    "    plt.annotate(label, xy=(x, y), xytext=(5, 2), textcoords='offset points', ha='right', va='bottom')\n",
    "plt.show()"
   ]
  },
  {
   "cell_type": "code",
   "execution_count": null,
   "id": "13de7d1a",
   "metadata": {},
   "outputs": [],
   "source": []
  },
  {
   "cell_type": "code",
   "execution_count": null,
   "id": "e647b2ac",
   "metadata": {},
   "outputs": [],
   "source": []
  }
 ],
 "metadata": {
  "kernelspec": {
   "display_name": "Python 3 (ipykernel)",
   "language": "python",
   "name": "python3"
  },
  "language_info": {
   "codemirror_mode": {
    "name": "ipython",
    "version": 3
   },
   "file_extension": ".py",
   "mimetype": "text/x-python",
   "name": "python",
   "nbconvert_exporter": "python",
   "pygments_lexer": "ipython3",
   "version": "3.7.3"
  }
 },
 "nbformat": 4,
 "nbformat_minor": 5
}
